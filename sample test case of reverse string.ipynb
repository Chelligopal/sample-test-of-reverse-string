{
 "cells": [
  {
   "cell_type": "code",
   "execution_count": 2,
   "id": "b38bed87",
   "metadata": {},
   "outputs": [
    {
     "name": "stdout",
     "output_type": "stream",
     "text": [
      "hello:adoyde edyoda\n"
     ]
    }
   ],
   "source": [
    "firstname=(\"edyoda\")\n",
    "lastname=(\"adoyde\")\n",
    "print(\"hello:\" +lastname + \" \" +firstname)"
   ]
  },
  {
   "cell_type": "code",
   "execution_count": 3,
   "id": "162aa588",
   "metadata": {},
   "outputs": [
    {
     "name": "stdout",
     "output_type": "stream",
     "text": [
      "hello:adoyde edyoda\n"
     ]
    }
   ],
   "source": [
    "str1=(\"edyoda\")\n",
    "str2=(\"adoyde\")\n",
    "print(\"hello:\" +str2 + \" \" +str1)"
   ]
  },
  {
   "cell_type": "code",
   "execution_count": 10,
   "id": "343506ee",
   "metadata": {},
   "outputs": [
    {
     "name": "stdout",
     "output_type": "stream",
     "text": [
      "adoyde\n"
     ]
    }
   ],
   "source": [
    "str1=(\"edyoda\")\n",
    "print(str1[-1 :: -1])"
   ]
  },
  {
   "cell_type": "code",
   "execution_count": null,
   "id": "8195512b",
   "metadata": {},
   "outputs": [],
   "source": []
  },
  {
   "cell_type": "code",
   "execution_count": null,
   "id": "50d60ebf",
   "metadata": {},
   "outputs": [],
   "source": []
  }
 ],
 "metadata": {
  "kernelspec": {
   "display_name": "Python 3 (ipykernel)",
   "language": "python",
   "name": "python3"
  },
  "language_info": {
   "codemirror_mode": {
    "name": "ipython",
    "version": 3
   },
   "file_extension": ".py",
   "mimetype": "text/x-python",
   "name": "python",
   "nbconvert_exporter": "python",
   "pygments_lexer": "ipython3",
   "version": "3.10.1"
  }
 },
 "nbformat": 4,
 "nbformat_minor": 5
}
